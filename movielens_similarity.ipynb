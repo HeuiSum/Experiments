{
 "cells": [
  {
   "cell_type": "markdown",
   "metadata": {},
   "source": [
    "# 이 노트북에서는: 영화 유사도 계산\n",
    "- 영화 추천 시스템을 위한 데이터 정제\n",
    "- movielens dataset에 포함되어 있는 \"태그\" 정보를 이용하여 유사도 계산\n",
    "- tag는 총 1128개, genome-socres.csv에 각 영화-태그의 relevance score가 저장되어 있음\n",
    "- cosine similarity 계산"
   ]
  },
  {
   "cell_type": "markdown",
   "metadata": {},
   "source": [
    "#### import block"
   ]
  },
  {
   "cell_type": "code",
   "execution_count": 27,
   "metadata": {},
   "outputs": [],
   "source": [
    "import pandas as pd\n",
    "import numpy as np\n",
    "import os\n",
    "import matplotlib.pyplot as plt"
   ]
  },
  {
   "cell_type": "code",
   "execution_count": 52,
   "metadata": {},
   "outputs": [],
   "source": [
    "from sklearn.preprocessing import normalize as Normalize"
   ]
  },
  {
   "cell_type": "code",
   "execution_count": 4,
   "metadata": {},
   "outputs": [
    {
     "data": {
      "text/plain": [
       "['README.txt',\n",
       " 'movies.csv',\n",
       " 'genome-scores.csv',\n",
       " 'genome-tags.csv',\n",
       " 'links.csv',\n",
       " 'tags.csv',\n",
       " 'ratings.csv']"
      ]
     },
     "execution_count": 4,
     "metadata": {},
     "output_type": "execute_result"
    }
   ],
   "source": [
    "base_path = '/home/ssum/바탕화면/experiments/ml-25m/'\n",
    "file_list = os.listdir(base_path)\n",
    "file_list"
   ]
  },
  {
   "cell_type": "code",
   "execution_count": 14,
   "metadata": {},
   "outputs": [
    {
     "data": {
      "text/html": [
       "<div>\n",
       "<style scoped>\n",
       "    .dataframe tbody tr th:only-of-type {\n",
       "        vertical-align: middle;\n",
       "    }\n",
       "\n",
       "    .dataframe tbody tr th {\n",
       "        vertical-align: top;\n",
       "    }\n",
       "\n",
       "    .dataframe thead th {\n",
       "        text-align: right;\n",
       "    }\n",
       "</style>\n",
       "<table border=\"1\" class=\"dataframe\">\n",
       "  <thead>\n",
       "    <tr style=\"text-align: right;\">\n",
       "      <th></th>\n",
       "      <th>tagId</th>\n",
       "      <th>tag</th>\n",
       "    </tr>\n",
       "  </thead>\n",
       "  <tbody>\n",
       "    <tr>\n",
       "      <th>0</th>\n",
       "      <td>1</td>\n",
       "      <td>007</td>\n",
       "    </tr>\n",
       "    <tr>\n",
       "      <th>1</th>\n",
       "      <td>2</td>\n",
       "      <td>007 (series)</td>\n",
       "    </tr>\n",
       "    <tr>\n",
       "      <th>2</th>\n",
       "      <td>3</td>\n",
       "      <td>18th century</td>\n",
       "    </tr>\n",
       "    <tr>\n",
       "      <th>3</th>\n",
       "      <td>4</td>\n",
       "      <td>1920s</td>\n",
       "    </tr>\n",
       "    <tr>\n",
       "      <th>4</th>\n",
       "      <td>5</td>\n",
       "      <td>1930s</td>\n",
       "    </tr>\n",
       "  </tbody>\n",
       "</table>\n",
       "</div>"
      ],
      "text/plain": [
       "   tagId           tag\n",
       "0      1           007\n",
       "1      2  007 (series)\n",
       "2      3  18th century\n",
       "3      4         1920s\n",
       "4      5         1930s"
      ]
     },
     "execution_count": 14,
     "metadata": {},
     "output_type": "execute_result"
    }
   ],
   "source": [
    "df_genome_tags = pd.read_csv(base_path+\"/genome-tags.csv\")\n",
    "df_genome_tags.head()"
   ]
  },
  {
   "cell_type": "code",
   "execution_count": 15,
   "metadata": {},
   "outputs": [
    {
     "data": {
      "text/html": [
       "<div>\n",
       "<style scoped>\n",
       "    .dataframe tbody tr th:only-of-type {\n",
       "        vertical-align: middle;\n",
       "    }\n",
       "\n",
       "    .dataframe tbody tr th {\n",
       "        vertical-align: top;\n",
       "    }\n",
       "\n",
       "    .dataframe thead th {\n",
       "        text-align: right;\n",
       "    }\n",
       "</style>\n",
       "<table border=\"1\" class=\"dataframe\">\n",
       "  <thead>\n",
       "    <tr style=\"text-align: right;\">\n",
       "      <th></th>\n",
       "      <th>movieId</th>\n",
       "      <th>tagId</th>\n",
       "      <th>relevance</th>\n",
       "    </tr>\n",
       "  </thead>\n",
       "  <tbody>\n",
       "    <tr>\n",
       "      <th>0</th>\n",
       "      <td>1</td>\n",
       "      <td>1</td>\n",
       "      <td>0.02875</td>\n",
       "    </tr>\n",
       "    <tr>\n",
       "      <th>1</th>\n",
       "      <td>1</td>\n",
       "      <td>2</td>\n",
       "      <td>0.02375</td>\n",
       "    </tr>\n",
       "    <tr>\n",
       "      <th>2</th>\n",
       "      <td>1</td>\n",
       "      <td>3</td>\n",
       "      <td>0.06250</td>\n",
       "    </tr>\n",
       "    <tr>\n",
       "      <th>3</th>\n",
       "      <td>1</td>\n",
       "      <td>4</td>\n",
       "      <td>0.07575</td>\n",
       "    </tr>\n",
       "    <tr>\n",
       "      <th>4</th>\n",
       "      <td>1</td>\n",
       "      <td>5</td>\n",
       "      <td>0.14075</td>\n",
       "    </tr>\n",
       "  </tbody>\n",
       "</table>\n",
       "</div>"
      ],
      "text/plain": [
       "   movieId  tagId  relevance\n",
       "0        1      1    0.02875\n",
       "1        1      2    0.02375\n",
       "2        1      3    0.06250\n",
       "3        1      4    0.07575\n",
       "4        1      5    0.14075"
      ]
     },
     "execution_count": 15,
     "metadata": {},
     "output_type": "execute_result"
    }
   ],
   "source": [
    "df_genome_scores = pd.read_csv(base_path+\"/genome-scores.csv\")\n",
    "df_genome_scores.head()"
   ]
  },
  {
   "cell_type": "markdown",
   "metadata": {},
   "source": [
    "### 유사도 계산\n",
    "- normalize scores into unit scale\n",
    "- movieId - moviedId covariance matrix 계산"
   ]
  },
  {
   "cell_type": "code",
   "execution_count": 16,
   "metadata": {},
   "outputs": [],
   "source": [
    "df_genome_scores = df_genome_scores.pivot_table(values='relevance', index='movieId', columns='tagId')"
   ]
  },
  {
   "cell_type": "code",
   "execution_count": 53,
   "metadata": {},
   "outputs": [],
   "source": [
    "df_genome_scores = pd.DataFrame(Normalize(df_genome_scores, norm='l2', axis=1))"
   ]
  },
  {
   "cell_type": "code",
   "execution_count": 59,
   "metadata": {},
   "outputs": [
    {
     "data": {
      "text/plain": [
       "array([1., 1., 1., ..., 1., 1., 1.])"
      ]
     },
     "execution_count": 59,
     "metadata": {},
     "output_type": "execute_result"
    }
   ],
   "source": [
    "np.linalg.norm(df_genome_scores, axis=1)"
   ]
  },
  {
   "cell_type": "code",
   "execution_count": 62,
   "metadata": {},
   "outputs": [],
   "source": [
    "cos_similarity = pd.DataFrame(np.dot(df_genome_scores, df_genome_scores.T))\n"
   ]
  },
  {
   "cell_type": "code",
   "execution_count": 66,
   "metadata": {
    "scrolled": true
   },
   "outputs": [
    {
     "data": {
      "text/html": [
       "<div>\n",
       "<style scoped>\n",
       "    .dataframe tbody tr th:only-of-type {\n",
       "        vertical-align: middle;\n",
       "    }\n",
       "\n",
       "    .dataframe tbody tr th {\n",
       "        vertical-align: top;\n",
       "    }\n",
       "\n",
       "    .dataframe thead th {\n",
       "        text-align: right;\n",
       "    }\n",
       "</style>\n",
       "<table border=\"1\" class=\"dataframe\">\n",
       "  <thead>\n",
       "    <tr style=\"text-align: right;\">\n",
       "      <th></th>\n",
       "      <th>0</th>\n",
       "      <th>1</th>\n",
       "      <th>2</th>\n",
       "      <th>3</th>\n",
       "      <th>4</th>\n",
       "      <th>5</th>\n",
       "      <th>6</th>\n",
       "      <th>7</th>\n",
       "      <th>8</th>\n",
       "      <th>9</th>\n",
       "      <th>...</th>\n",
       "      <th>13806</th>\n",
       "      <th>13807</th>\n",
       "      <th>13808</th>\n",
       "      <th>13809</th>\n",
       "      <th>13810</th>\n",
       "      <th>13811</th>\n",
       "      <th>13812</th>\n",
       "      <th>13813</th>\n",
       "      <th>13814</th>\n",
       "      <th>13815</th>\n",
       "    </tr>\n",
       "  </thead>\n",
       "  <tbody>\n",
       "    <tr>\n",
       "      <th>0</th>\n",
       "      <td>1.000000</td>\n",
       "      <td>0.776151</td>\n",
       "      <td>0.690177</td>\n",
       "      <td>0.645052</td>\n",
       "      <td>0.649132</td>\n",
       "      <td>0.621668</td>\n",
       "      <td>0.652549</td>\n",
       "      <td>0.690146</td>\n",
       "      <td>0.530572</td>\n",
       "      <td>0.638689</td>\n",
       "      <td>...</td>\n",
       "      <td>0.710299</td>\n",
       "      <td>0.751012</td>\n",
       "      <td>0.625985</td>\n",
       "      <td>0.748424</td>\n",
       "      <td>0.696916</td>\n",
       "      <td>0.743547</td>\n",
       "      <td>0.673634</td>\n",
       "      <td>0.715308</td>\n",
       "      <td>0.723754</td>\n",
       "      <td>0.691180</td>\n",
       "    </tr>\n",
       "    <tr>\n",
       "      <th>1</th>\n",
       "      <td>0.776151</td>\n",
       "      <td>1.000000</td>\n",
       "      <td>0.679791</td>\n",
       "      <td>0.644311</td>\n",
       "      <td>0.650693</td>\n",
       "      <td>0.519485</td>\n",
       "      <td>0.649139</td>\n",
       "      <td>0.761248</td>\n",
       "      <td>0.623412</td>\n",
       "      <td>0.669072</td>\n",
       "      <td>...</td>\n",
       "      <td>0.626447</td>\n",
       "      <td>0.749256</td>\n",
       "      <td>0.637572</td>\n",
       "      <td>0.646968</td>\n",
       "      <td>0.714785</td>\n",
       "      <td>0.692797</td>\n",
       "      <td>0.578015</td>\n",
       "      <td>0.665310</td>\n",
       "      <td>0.649865</td>\n",
       "      <td>0.663943</td>\n",
       "    </tr>\n",
       "    <tr>\n",
       "      <th>2</th>\n",
       "      <td>0.690177</td>\n",
       "      <td>0.679791</td>\n",
       "      <td>1.000000</td>\n",
       "      <td>0.751037</td>\n",
       "      <td>0.852975</td>\n",
       "      <td>0.633324</td>\n",
       "      <td>0.772888</td>\n",
       "      <td>0.711675</td>\n",
       "      <td>0.631111</td>\n",
       "      <td>0.673364</td>\n",
       "      <td>...</td>\n",
       "      <td>0.721184</td>\n",
       "      <td>0.781558</td>\n",
       "      <td>0.658665</td>\n",
       "      <td>0.744801</td>\n",
       "      <td>0.749483</td>\n",
       "      <td>0.724407</td>\n",
       "      <td>0.690325</td>\n",
       "      <td>0.779733</td>\n",
       "      <td>0.753919</td>\n",
       "      <td>0.786940</td>\n",
       "    </tr>\n",
       "    <tr>\n",
       "      <th>3</th>\n",
       "      <td>0.645052</td>\n",
       "      <td>0.644311</td>\n",
       "      <td>0.751037</td>\n",
       "      <td>1.000000</td>\n",
       "      <td>0.740004</td>\n",
       "      <td>0.607822</td>\n",
       "      <td>0.806970</td>\n",
       "      <td>0.758645</td>\n",
       "      <td>0.589906</td>\n",
       "      <td>0.603587</td>\n",
       "      <td>...</td>\n",
       "      <td>0.710690</td>\n",
       "      <td>0.757437</td>\n",
       "      <td>0.640190</td>\n",
       "      <td>0.726997</td>\n",
       "      <td>0.741232</td>\n",
       "      <td>0.674239</td>\n",
       "      <td>0.716335</td>\n",
       "      <td>0.731396</td>\n",
       "      <td>0.684330</td>\n",
       "      <td>0.743047</td>\n",
       "    </tr>\n",
       "    <tr>\n",
       "      <th>4</th>\n",
       "      <td>0.649132</td>\n",
       "      <td>0.650693</td>\n",
       "      <td>0.852975</td>\n",
       "      <td>0.740004</td>\n",
       "      <td>1.000000</td>\n",
       "      <td>0.524169</td>\n",
       "      <td>0.753251</td>\n",
       "      <td>0.663082</td>\n",
       "      <td>0.568722</td>\n",
       "      <td>0.589733</td>\n",
       "      <td>...</td>\n",
       "      <td>0.633000</td>\n",
       "      <td>0.705899</td>\n",
       "      <td>0.568299</td>\n",
       "      <td>0.655616</td>\n",
       "      <td>0.698476</td>\n",
       "      <td>0.651054</td>\n",
       "      <td>0.648331</td>\n",
       "      <td>0.677497</td>\n",
       "      <td>0.655607</td>\n",
       "      <td>0.694157</td>\n",
       "    </tr>\n",
       "  </tbody>\n",
       "</table>\n",
       "<p>5 rows × 13816 columns</p>\n",
       "</div>"
      ],
      "text/plain": [
       "      0         1         2         3         4         5         6      \\\n",
       "0  1.000000  0.776151  0.690177  0.645052  0.649132  0.621668  0.652549   \n",
       "1  0.776151  1.000000  0.679791  0.644311  0.650693  0.519485  0.649139   \n",
       "2  0.690177  0.679791  1.000000  0.751037  0.852975  0.633324  0.772888   \n",
       "3  0.645052  0.644311  0.751037  1.000000  0.740004  0.607822  0.806970   \n",
       "4  0.649132  0.650693  0.852975  0.740004  1.000000  0.524169  0.753251   \n",
       "\n",
       "      7         8         9      ...     13806     13807     13808     13809  \\\n",
       "0  0.690146  0.530572  0.638689  ...  0.710299  0.751012  0.625985  0.748424   \n",
       "1  0.761248  0.623412  0.669072  ...  0.626447  0.749256  0.637572  0.646968   \n",
       "2  0.711675  0.631111  0.673364  ...  0.721184  0.781558  0.658665  0.744801   \n",
       "3  0.758645  0.589906  0.603587  ...  0.710690  0.757437  0.640190  0.726997   \n",
       "4  0.663082  0.568722  0.589733  ...  0.633000  0.705899  0.568299  0.655616   \n",
       "\n",
       "      13810     13811     13812     13813     13814     13815  \n",
       "0  0.696916  0.743547  0.673634  0.715308  0.723754  0.691180  \n",
       "1  0.714785  0.692797  0.578015  0.665310  0.649865  0.663943  \n",
       "2  0.749483  0.724407  0.690325  0.779733  0.753919  0.786940  \n",
       "3  0.741232  0.674239  0.716335  0.731396  0.684330  0.743047  \n",
       "4  0.698476  0.651054  0.648331  0.677497  0.655607  0.694157  \n",
       "\n",
       "[5 rows x 13816 columns]"
      ]
     },
     "execution_count": 66,
     "metadata": {},
     "output_type": "execute_result"
    }
   ],
   "source": [
    "cos_similarity.head()"
   ]
  },
  {
   "cell_type": "markdown",
   "metadata": {},
   "source": [
    "### 결론 및 설명\n",
    "- cos similarity가 x.T dot x 인 이유?\n",
    "    1. x 가 unit scale 된 행렬이라면, norm(x) = 1 이다.\n",
    "    2. 따라서 정의에 의해 cos similarity는 내적과 같게 된다\n",
    "\n",
    "\n",
    "- 추천시스템에서의 활용\n",
    "    1. 위에서 계산한 cos similarity는 전체 movieId중 일부만이 사용되었다.\n",
    "    2. genome_scores는 movielens dataset에 포함되어 있는 점수(데이터 설명 페이지에는 머신러닝으로 계산된 것이라고 소개하고 있음)일 뿐이므로, 실제 구현에서는 tag정보 등을 이용하여 unit scale matrix를 먼저 구성하는 작업이 필요하다.\n",
    "    3. similarity 정보가 없는 movieId는 제외하고 relation(=graph edge)구성을 할 수 있다.\n"
   ]
  },
  {
   "cell_type": "markdown",
   "metadata": {},
   "source": []
  },
  {
   "cell_type": "code",
   "execution_count": null,
   "metadata": {},
   "outputs": [],
   "source": []
  },
  {
   "cell_type": "code",
   "execution_count": null,
   "metadata": {},
   "outputs": [],
   "source": []
  },
  {
   "cell_type": "code",
   "execution_count": null,
   "metadata": {},
   "outputs": [],
   "source": []
  },
  {
   "cell_type": "code",
   "execution_count": null,
   "metadata": {},
   "outputs": [],
   "source": []
  },
  {
   "cell_type": "code",
   "execution_count": null,
   "metadata": {},
   "outputs": [],
   "source": []
  },
  {
   "cell_type": "code",
   "execution_count": null,
   "metadata": {},
   "outputs": [],
   "source": []
  },
  {
   "cell_type": "code",
   "execution_count": null,
   "metadata": {},
   "outputs": [],
   "source": []
  },
  {
   "cell_type": "code",
   "execution_count": null,
   "metadata": {},
   "outputs": [],
   "source": []
  },
  {
   "cell_type": "code",
   "execution_count": null,
   "metadata": {},
   "outputs": [],
   "source": []
  },
  {
   "cell_type": "code",
   "execution_count": null,
   "metadata": {},
   "outputs": [],
   "source": []
  },
  {
   "cell_type": "code",
   "execution_count": null,
   "metadata": {},
   "outputs": [],
   "source": []
  },
  {
   "cell_type": "code",
   "execution_count": null,
   "metadata": {},
   "outputs": [],
   "source": []
  },
  {
   "cell_type": "code",
   "execution_count": null,
   "metadata": {},
   "outputs": [],
   "source": []
  },
  {
   "cell_type": "code",
   "execution_count": null,
   "metadata": {},
   "outputs": [],
   "source": []
  },
  {
   "cell_type": "code",
   "execution_count": null,
   "metadata": {},
   "outputs": [],
   "source": []
  },
  {
   "cell_type": "code",
   "execution_count": null,
   "metadata": {},
   "outputs": [],
   "source": []
  }
 ],
 "metadata": {
  "celltoolbar": "Raw Cell Format",
  "kernelspec": {
   "display_name": "bigdata",
   "language": "python",
   "name": "bigdata"
  },
  "language_info": {
   "codemirror_mode": {
    "name": "ipython",
    "version": 2
   },
   "file_extension": ".py",
   "mimetype": "text/x-python",
   "name": "python",
   "nbconvert_exporter": "python",
   "pygments_lexer": "ipython2",
   "version": "2.7.17"
  }
 },
 "nbformat": 4,
 "nbformat_minor": 2
}
