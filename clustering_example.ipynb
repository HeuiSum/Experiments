{
 "cells": [
  {
   "cell_type": "markdown",
   "metadata": {},
   "source": [
    "# 이 노트북에서는: naive clustering\n",
    " - 고객의 기본 정보는 알 수 있지만 구매 내역이 부족한 경우, 비슷한 성향의 고객끼리 \"군집화\" 하면 소비 패턴을 어느 정도 예측해 볼 수 있다. 이를 위해 다음 작업을 수행한다.\n",
    " - PCA: 차원 축소\n",
    " - clustering(user demo. info. 이용)\n",
    "    "
   ]
  },
  {
   "cell_type": "markdown",
   "metadata": {},
   "source": [
    "### 0. about dataset: stanford marketing.\n",
    "Attribute 설명 (요약)\n",
    "\n",
    "- annual income, age등 14개의 고객 정보가 label encoding 되어 있다.\n",
    "- 8993명의 고객 데이터로 구성되어 있고, 약간의 결측치가 포함되어 있다.\n",
    "\n",
    "(https://web.stanford.edu/~hastie/ElemStatLearn//datasets/marketing.info.txt)\n",
    "\n"
   ]
  },
  {
   "cell_type": "markdown",
   "metadata": {},
   "source": [
    "### 1. Data cleaning and EDA \n",
    "- 기초 통계량 확인\n",
    "- 결측치 처리"
   ]
  },
  {
   "cell_type": "markdown",
   "metadata": {},
   "source": [
    "#### import block"
   ]
  },
  {
   "cell_type": "code",
   "execution_count": 1,
   "metadata": {
    "scrolled": true
   },
   "outputs": [],
   "source": [
    "import numpy as np\n",
    "import pandas as pd\n",
    "import os\n",
    "import matplotlib.pyplot as plt\n",
    "import seaborn as sns"
   ]
  },
  {
   "cell_type": "code",
   "execution_count": 2,
   "metadata": {},
   "outputs": [],
   "source": [
    "from sklearn.cluster import KMeans\n",
    "from sklearn.preprocessing import StandardScaler\n"
   ]
  },
  {
   "cell_type": "code",
   "execution_count": 3,
   "metadata": {
    "scrolled": true
   },
   "outputs": [],
   "source": [
    "base_path = \"/home/ssum/바탕화면/experiments/mall-customers/\""
   ]
  },
  {
   "cell_type": "code",
   "execution_count": 4,
   "metadata": {
    "scrolled": true
   },
   "outputs": [],
   "source": [
    "df_customer = pd.read_csv(base_path+ \"sanfrancisco_customers.csv\")"
   ]
  },
  {
   "cell_type": "markdown",
   "metadata": {},
   "source": [
    "#### 데이터의 기초 통계량"
   ]
  },
  {
   "cell_type": "code",
   "execution_count": 5,
   "metadata": {
    "scrolled": true
   },
   "outputs": [
    {
     "data": {
      "text/html": [
       "<div>\n",
       "<style scoped>\n",
       "    .dataframe tbody tr th:only-of-type {\n",
       "        vertical-align: middle;\n",
       "    }\n",
       "\n",
       "    .dataframe tbody tr th {\n",
       "        vertical-align: top;\n",
       "    }\n",
       "\n",
       "    .dataframe thead th {\n",
       "        text-align: right;\n",
       "    }\n",
       "</style>\n",
       "<table border=\"1\" class=\"dataframe\">\n",
       "  <thead>\n",
       "    <tr style=\"text-align: right;\">\n",
       "      <th></th>\n",
       "      <th>Annual Income</th>\n",
       "      <th>Sex</th>\n",
       "      <th>Marital Status</th>\n",
       "      <th>Age</th>\n",
       "      <th>Education</th>\n",
       "      <th>Occupation</th>\n",
       "      <th>Years living in the area</th>\n",
       "      <th>Dual income</th>\n",
       "      <th>Persons in household</th>\n",
       "      <th>Persons in household &lt; 18</th>\n",
       "      <th>Householder status</th>\n",
       "      <th>Type of home</th>\n",
       "      <th>Ethnic classification</th>\n",
       "      <th>Most spoken language</th>\n",
       "    </tr>\n",
       "  </thead>\n",
       "  <tbody>\n",
       "    <tr>\n",
       "      <td>count</td>\n",
       "      <td>8993.000000</td>\n",
       "      <td>8993.000000</td>\n",
       "      <td>8833.000000</td>\n",
       "      <td>8993.000000</td>\n",
       "      <td>8907.000000</td>\n",
       "      <td>8857.000000</td>\n",
       "      <td>8080.000000</td>\n",
       "      <td>8993.000000</td>\n",
       "      <td>8618.000000</td>\n",
       "      <td>8993.000000</td>\n",
       "      <td>8753.000000</td>\n",
       "      <td>8636.000000</td>\n",
       "      <td>8925.000000</td>\n",
       "      <td>8634.000000</td>\n",
       "    </tr>\n",
       "    <tr>\n",
       "      <td>mean</td>\n",
       "      <td>4.895029</td>\n",
       "      <td>1.546870</td>\n",
       "      <td>3.031020</td>\n",
       "      <td>3.415212</td>\n",
       "      <td>3.835074</td>\n",
       "      <td>3.787964</td>\n",
       "      <td>4.198267</td>\n",
       "      <td>1.544757</td>\n",
       "      <td>2.851822</td>\n",
       "      <td>0.666852</td>\n",
       "      <td>1.836742</td>\n",
       "      <td>1.855720</td>\n",
       "      <td>5.955854</td>\n",
       "      <td>1.127519</td>\n",
       "    </tr>\n",
       "    <tr>\n",
       "      <td>std</td>\n",
       "      <td>2.773695</td>\n",
       "      <td>0.497826</td>\n",
       "      <td>1.809343</td>\n",
       "      <td>1.637581</td>\n",
       "      <td>1.242391</td>\n",
       "      <td>2.544717</td>\n",
       "      <td>1.226254</td>\n",
       "      <td>0.739565</td>\n",
       "      <td>1.535914</td>\n",
       "      <td>1.083886</td>\n",
       "      <td>0.744396</td>\n",
       "      <td>1.145279</td>\n",
       "      <td>1.757631</td>\n",
       "      <td>0.414411</td>\n",
       "    </tr>\n",
       "    <tr>\n",
       "      <td>min</td>\n",
       "      <td>1.000000</td>\n",
       "      <td>1.000000</td>\n",
       "      <td>1.000000</td>\n",
       "      <td>1.000000</td>\n",
       "      <td>1.000000</td>\n",
       "      <td>1.000000</td>\n",
       "      <td>1.000000</td>\n",
       "      <td>1.000000</td>\n",
       "      <td>1.000000</td>\n",
       "      <td>0.000000</td>\n",
       "      <td>1.000000</td>\n",
       "      <td>1.000000</td>\n",
       "      <td>1.000000</td>\n",
       "      <td>1.000000</td>\n",
       "    </tr>\n",
       "    <tr>\n",
       "      <td>25%</td>\n",
       "      <td>2.000000</td>\n",
       "      <td>1.000000</td>\n",
       "      <td>1.000000</td>\n",
       "      <td>2.000000</td>\n",
       "      <td>3.000000</td>\n",
       "      <td>1.000000</td>\n",
       "      <td>4.000000</td>\n",
       "      <td>1.000000</td>\n",
       "      <td>2.000000</td>\n",
       "      <td>0.000000</td>\n",
       "      <td>1.000000</td>\n",
       "      <td>1.000000</td>\n",
       "      <td>5.000000</td>\n",
       "      <td>1.000000</td>\n",
       "    </tr>\n",
       "    <tr>\n",
       "      <td>50%</td>\n",
       "      <td>5.000000</td>\n",
       "      <td>2.000000</td>\n",
       "      <td>3.000000</td>\n",
       "      <td>3.000000</td>\n",
       "      <td>4.000000</td>\n",
       "      <td>4.000000</td>\n",
       "      <td>5.000000</td>\n",
       "      <td>1.000000</td>\n",
       "      <td>3.000000</td>\n",
       "      <td>0.000000</td>\n",
       "      <td>2.000000</td>\n",
       "      <td>1.000000</td>\n",
       "      <td>7.000000</td>\n",
       "      <td>1.000000</td>\n",
       "    </tr>\n",
       "    <tr>\n",
       "      <td>75%</td>\n",
       "      <td>7.000000</td>\n",
       "      <td>2.000000</td>\n",
       "      <td>5.000000</td>\n",
       "      <td>4.000000</td>\n",
       "      <td>5.000000</td>\n",
       "      <td>6.000000</td>\n",
       "      <td>5.000000</td>\n",
       "      <td>2.000000</td>\n",
       "      <td>4.000000</td>\n",
       "      <td>1.000000</td>\n",
       "      <td>2.000000</td>\n",
       "      <td>3.000000</td>\n",
       "      <td>7.000000</td>\n",
       "      <td>1.000000</td>\n",
       "    </tr>\n",
       "    <tr>\n",
       "      <td>max</td>\n",
       "      <td>9.000000</td>\n",
       "      <td>2.000000</td>\n",
       "      <td>5.000000</td>\n",
       "      <td>7.000000</td>\n",
       "      <td>6.000000</td>\n",
       "      <td>9.000000</td>\n",
       "      <td>5.000000</td>\n",
       "      <td>3.000000</td>\n",
       "      <td>9.000000</td>\n",
       "      <td>9.000000</td>\n",
       "      <td>3.000000</td>\n",
       "      <td>5.000000</td>\n",
       "      <td>8.000000</td>\n",
       "      <td>3.000000</td>\n",
       "    </tr>\n",
       "  </tbody>\n",
       "</table>\n",
       "</div>"
      ],
      "text/plain": [
       "       Annual Income          Sex  Marital Status          Age    Education  \\\n",
       "count    8993.000000  8993.000000     8833.000000  8993.000000  8907.000000   \n",
       "mean        4.895029     1.546870        3.031020     3.415212     3.835074   \n",
       "std         2.773695     0.497826        1.809343     1.637581     1.242391   \n",
       "min         1.000000     1.000000        1.000000     1.000000     1.000000   \n",
       "25%         2.000000     1.000000        1.000000     2.000000     3.000000   \n",
       "50%         5.000000     2.000000        3.000000     3.000000     4.000000   \n",
       "75%         7.000000     2.000000        5.000000     4.000000     5.000000   \n",
       "max         9.000000     2.000000        5.000000     7.000000     6.000000   \n",
       "\n",
       "        Occupation  Years living in the area  Dual income  \\\n",
       "count  8857.000000               8080.000000  8993.000000   \n",
       "mean      3.787964                  4.198267     1.544757   \n",
       "std       2.544717                  1.226254     0.739565   \n",
       "min       1.000000                  1.000000     1.000000   \n",
       "25%       1.000000                  4.000000     1.000000   \n",
       "50%       4.000000                  5.000000     1.000000   \n",
       "75%       6.000000                  5.000000     2.000000   \n",
       "max       9.000000                  5.000000     3.000000   \n",
       "\n",
       "       Persons in household  Persons in household < 18  Householder status  \\\n",
       "count           8618.000000                8993.000000         8753.000000   \n",
       "mean               2.851822                   0.666852            1.836742   \n",
       "std                1.535914                   1.083886            0.744396   \n",
       "min                1.000000                   0.000000            1.000000   \n",
       "25%                2.000000                   0.000000            1.000000   \n",
       "50%                3.000000                   0.000000            2.000000   \n",
       "75%                4.000000                   1.000000            2.000000   \n",
       "max                9.000000                   9.000000            3.000000   \n",
       "\n",
       "       Type of home  Ethnic classification  Most spoken language   \n",
       "count   8636.000000            8925.000000            8634.000000  \n",
       "mean       1.855720               5.955854               1.127519  \n",
       "std        1.145279               1.757631               0.414411  \n",
       "min        1.000000               1.000000               1.000000  \n",
       "25%        1.000000               5.000000               1.000000  \n",
       "50%        1.000000               7.000000               1.000000  \n",
       "75%        3.000000               7.000000               1.000000  \n",
       "max        5.000000               8.000000               3.000000  "
      ]
     },
     "execution_count": 5,
     "metadata": {},
     "output_type": "execute_result"
    }
   ],
   "source": [
    "df_customer.describe()"
   ]
  },
  {
   "cell_type": "markdown",
   "metadata": {},
   "source": [
    "#### 결측치 처리: categorical variables= 최빈값으로 대체"
   ]
  },
  {
   "cell_type": "code",
   "execution_count": 6,
   "metadata": {
    "scrolled": true
   },
   "outputs": [],
   "source": [
    "def missing_values_table(df):\n",
    "        # Total missing values\n",
    "        mis_val = df.isnull().sum()\n",
    "        \n",
    "        # Percentage of missing values\n",
    "        mis_val_percent = 100 * df.isnull().sum() / len(df)\n",
    "        \n",
    "        # Make a table with the results\n",
    "        mis_val_table = pd.concat([mis_val, mis_val_percent], axis=1)\n",
    "        \n",
    "        # Rename the columns\n",
    "        mis_val_table_ren_columns = mis_val_table.rename(\n",
    "        columns = {0 : 'Missing Values', 1 : '% of Total Values'})\n",
    "        \n",
    "        # Sort the table by percentage of missing descending\n",
    "        mis_val_table_ren_columns = mis_val_table_ren_columns[\n",
    "            mis_val_table_ren_columns.iloc[:,1] != 0].sort_values(\n",
    "        '% of Total Values', ascending=False).round(1)\n",
    "        \n",
    "        # Print some summary information\n",
    "        print (\"Your selected dataframe has \" + str(df.shape[1]) + \" columns.\\n\"      \n",
    "            \"There are \" + str(mis_val_table_ren_columns.shape[0]) +\n",
    "              \" columns that have missing values.\")\n",
    "        \n",
    "        # Return the dataframe with missing information\n",
    "        return mis_val_table_ren_columns"
   ]
  },
  {
   "cell_type": "code",
   "execution_count": 7,
   "metadata": {
    "scrolled": true
   },
   "outputs": [
    {
     "name": "stdout",
     "output_type": "stream",
     "text": [
      "Your selected dataframe has 14 columns.\n",
      "There are 9 columns that have missing values.\n"
     ]
    },
    {
     "data": {
      "text/html": [
       "<div>\n",
       "<style scoped>\n",
       "    .dataframe tbody tr th:only-of-type {\n",
       "        vertical-align: middle;\n",
       "    }\n",
       "\n",
       "    .dataframe tbody tr th {\n",
       "        vertical-align: top;\n",
       "    }\n",
       "\n",
       "    .dataframe thead th {\n",
       "        text-align: right;\n",
       "    }\n",
       "</style>\n",
       "<table border=\"1\" class=\"dataframe\">\n",
       "  <thead>\n",
       "    <tr style=\"text-align: right;\">\n",
       "      <th></th>\n",
       "      <th>Missing Values</th>\n",
       "      <th>% of Total Values</th>\n",
       "    </tr>\n",
       "  </thead>\n",
       "  <tbody>\n",
       "    <tr>\n",
       "      <td>Years living in the area</td>\n",
       "      <td>913</td>\n",
       "      <td>10.2</td>\n",
       "    </tr>\n",
       "    <tr>\n",
       "      <td>Persons in household</td>\n",
       "      <td>375</td>\n",
       "      <td>4.2</td>\n",
       "    </tr>\n",
       "    <tr>\n",
       "      <td>Most spoken language</td>\n",
       "      <td>359</td>\n",
       "      <td>4.0</td>\n",
       "    </tr>\n",
       "    <tr>\n",
       "      <td>Type of home</td>\n",
       "      <td>357</td>\n",
       "      <td>4.0</td>\n",
       "    </tr>\n",
       "    <tr>\n",
       "      <td>Householder status</td>\n",
       "      <td>240</td>\n",
       "      <td>2.7</td>\n",
       "    </tr>\n",
       "    <tr>\n",
       "      <td>Marital Status</td>\n",
       "      <td>160</td>\n",
       "      <td>1.8</td>\n",
       "    </tr>\n",
       "    <tr>\n",
       "      <td>Occupation</td>\n",
       "      <td>136</td>\n",
       "      <td>1.5</td>\n",
       "    </tr>\n",
       "    <tr>\n",
       "      <td>Education</td>\n",
       "      <td>86</td>\n",
       "      <td>1.0</td>\n",
       "    </tr>\n",
       "    <tr>\n",
       "      <td>Ethnic classification</td>\n",
       "      <td>68</td>\n",
       "      <td>0.8</td>\n",
       "    </tr>\n",
       "  </tbody>\n",
       "</table>\n",
       "</div>"
      ],
      "text/plain": [
       "                          Missing Values  % of Total Values\n",
       "Years living in the area             913               10.2\n",
       "Persons in household                 375                4.2\n",
       "Most spoken language                 359                4.0\n",
       "Type of home                         357                4.0\n",
       "Householder status                   240                2.7\n",
       "Marital Status                       160                1.8\n",
       "Occupation                           136                1.5\n",
       "Education                             86                1.0\n",
       "Ethnic classification                 68                0.8"
      ]
     },
     "execution_count": 7,
     "metadata": {},
     "output_type": "execute_result"
    }
   ],
   "source": [
    "# Missing values statistics\n",
    "missing_values = missing_values_table(df_customer)\n",
    "missing_values.head(20)"
   ]
  },
  {
   "cell_type": "code",
   "execution_count": 8,
   "metadata": {
    "scrolled": true
   },
   "outputs": [],
   "source": [
    "for col in missing_values.index:\n",
    "    top_frq = df_customer[col].value_counts(dropna=True).idxmax()\n",
    "    df_customer[col].fillna(top_frq, inplace=True)"
   ]
  },
  {
   "cell_type": "markdown",
   "metadata": {},
   "source": [
    "##### 최빈값 대체 결과"
   ]
  },
  {
   "cell_type": "code",
   "execution_count": 9,
   "metadata": {
    "scrolled": true
   },
   "outputs": [
    {
     "name": "stdout",
     "output_type": "stream",
     "text": [
      "Your selected dataframe has 14 columns.\n",
      "There are 0 columns that have missing values.\n"
     ]
    },
    {
     "data": {
      "text/html": [
       "<div>\n",
       "<style scoped>\n",
       "    .dataframe tbody tr th:only-of-type {\n",
       "        vertical-align: middle;\n",
       "    }\n",
       "\n",
       "    .dataframe tbody tr th {\n",
       "        vertical-align: top;\n",
       "    }\n",
       "\n",
       "    .dataframe thead th {\n",
       "        text-align: right;\n",
       "    }\n",
       "</style>\n",
       "<table border=\"1\" class=\"dataframe\">\n",
       "  <thead>\n",
       "    <tr style=\"text-align: right;\">\n",
       "      <th></th>\n",
       "      <th>Missing Values</th>\n",
       "      <th>% of Total Values</th>\n",
       "    </tr>\n",
       "  </thead>\n",
       "  <tbody>\n",
       "  </tbody>\n",
       "</table>\n",
       "</div>"
      ],
      "text/plain": [
       "Empty DataFrame\n",
       "Columns: [Missing Values, % of Total Values]\n",
       "Index: []"
      ]
     },
     "execution_count": 9,
     "metadata": {},
     "output_type": "execute_result"
    }
   ],
   "source": [
    "missing_values = missing_values_table(df_customer)\n",
    "missing_values.head(20)"
   ]
  },
  {
   "cell_type": "markdown",
   "metadata": {
    "scrolled": true
   },
   "source": [
    "### 2. clustering: K-Means\n",
    "- scaling\n",
    "- PCA"
   ]
  },
  {
   "cell_type": "markdown",
   "metadata": {},
   "source": [
    "#### standard scaling"
   ]
  },
  {
   "cell_type": "code",
   "execution_count": 10,
   "metadata": {},
   "outputs": [
    {
     "data": {
      "text/html": [
       "<div>\n",
       "<style scoped>\n",
       "    .dataframe tbody tr th:only-of-type {\n",
       "        vertical-align: middle;\n",
       "    }\n",
       "\n",
       "    .dataframe tbody tr th {\n",
       "        vertical-align: top;\n",
       "    }\n",
       "\n",
       "    .dataframe thead th {\n",
       "        text-align: right;\n",
       "    }\n",
       "</style>\n",
       "<table border=\"1\" class=\"dataframe\">\n",
       "  <thead>\n",
       "    <tr style=\"text-align: right;\">\n",
       "      <th></th>\n",
       "      <th>Annual Income</th>\n",
       "      <th>Sex</th>\n",
       "      <th>Marital Status</th>\n",
       "      <th>Age</th>\n",
       "      <th>Education</th>\n",
       "      <th>Occupation</th>\n",
       "      <th>Years living in the area</th>\n",
       "      <th>Dual income</th>\n",
       "      <th>Persons in household</th>\n",
       "      <th>Persons in household &lt; 18</th>\n",
       "      <th>Householder status</th>\n",
       "      <th>Type of home</th>\n",
       "      <th>Ethnic classification</th>\n",
       "      <th>Most spoken language</th>\n",
       "    </tr>\n",
       "  </thead>\n",
       "  <tbody>\n",
       "    <tr>\n",
       "      <td>0</td>\n",
       "      <td>1.480047</td>\n",
       "      <td>0.910269</td>\n",
       "      <td>-1.140289</td>\n",
       "      <td>0.967815</td>\n",
       "      <td>0.132109</td>\n",
       "      <td>0.492213</td>\n",
       "      <td>0.606741</td>\n",
       "      <td>1.967810</td>\n",
       "      <td>0.121407</td>\n",
       "      <td>-0.615276</td>\n",
       "      <td>-1.144624</td>\n",
       "      <td>-0.724251</td>\n",
       "      <td>0.591059</td>\n",
       "      <td>-0.300956</td>\n",
       "    </tr>\n",
       "    <tr>\n",
       "      <td>1</td>\n",
       "      <td>1.480047</td>\n",
       "      <td>-1.098577</td>\n",
       "      <td>-1.140289</td>\n",
       "      <td>0.967815</td>\n",
       "      <td>0.940863</td>\n",
       "      <td>0.492213</td>\n",
       "      <td>0.606741</td>\n",
       "      <td>1.967810</td>\n",
       "      <td>1.443219</td>\n",
       "      <td>1.230039</td>\n",
       "      <td>-1.144624</td>\n",
       "      <td>-0.724251</td>\n",
       "      <td>0.591059</td>\n",
       "      <td>-0.300956</td>\n",
       "    </tr>\n",
       "    <tr>\n",
       "      <td>2</td>\n",
       "      <td>1.480047</td>\n",
       "      <td>0.910269</td>\n",
       "      <td>-1.140289</td>\n",
       "      <td>-0.253566</td>\n",
       "      <td>0.940863</td>\n",
       "      <td>-1.077597</td>\n",
       "      <td>0.606741</td>\n",
       "      <td>0.615589</td>\n",
       "      <td>0.121407</td>\n",
       "      <td>0.307381</td>\n",
       "      <td>0.216244</td>\n",
       "      <td>1.038453</td>\n",
       "      <td>0.591059</td>\n",
       "      <td>-0.300956</td>\n",
       "    </tr>\n",
       "    <tr>\n",
       "      <td>3</td>\n",
       "      <td>-1.404353</td>\n",
       "      <td>0.910269</td>\n",
       "      <td>1.067379</td>\n",
       "      <td>-1.474947</td>\n",
       "      <td>-1.485397</td>\n",
       "      <td>0.884666</td>\n",
       "      <td>0.606741</td>\n",
       "      <td>-0.736632</td>\n",
       "      <td>0.782313</td>\n",
       "      <td>1.230039</td>\n",
       "      <td>1.577112</td>\n",
       "      <td>-0.724251</td>\n",
       "      <td>0.591059</td>\n",
       "      <td>-0.300956</td>\n",
       "    </tr>\n",
       "    <tr>\n",
       "      <td>4</td>\n",
       "      <td>-1.404353</td>\n",
       "      <td>0.910269</td>\n",
       "      <td>1.067379</td>\n",
       "      <td>-1.474947</td>\n",
       "      <td>-1.485397</td>\n",
       "      <td>0.884666</td>\n",
       "      <td>-1.077860</td>\n",
       "      <td>-0.736632</td>\n",
       "      <td>0.782313</td>\n",
       "      <td>1.230039</td>\n",
       "      <td>1.577112</td>\n",
       "      <td>-0.724251</td>\n",
       "      <td>0.591059</td>\n",
       "      <td>-0.300956</td>\n",
       "    </tr>\n",
       "  </tbody>\n",
       "</table>\n",
       "</div>"
      ],
      "text/plain": [
       "   Annual Income       Sex  Marital Status       Age  Education  Occupation  \\\n",
       "0       1.480047  0.910269       -1.140289  0.967815   0.132109    0.492213   \n",
       "1       1.480047 -1.098577       -1.140289  0.967815   0.940863    0.492213   \n",
       "2       1.480047  0.910269       -1.140289 -0.253566   0.940863   -1.077597   \n",
       "3      -1.404353  0.910269        1.067379 -1.474947  -1.485397    0.884666   \n",
       "4      -1.404353  0.910269        1.067379 -1.474947  -1.485397    0.884666   \n",
       "\n",
       "   Years living in the area  Dual income  Persons in household  \\\n",
       "0                  0.606741     1.967810              0.121407   \n",
       "1                  0.606741     1.967810              1.443219   \n",
       "2                  0.606741     0.615589              0.121407   \n",
       "3                  0.606741    -0.736632              0.782313   \n",
       "4                 -1.077860    -0.736632              0.782313   \n",
       "\n",
       "   Persons in household < 18  Householder status  Type of home  \\\n",
       "0                  -0.615276           -1.144624     -0.724251   \n",
       "1                   1.230039           -1.144624     -0.724251   \n",
       "2                   0.307381            0.216244      1.038453   \n",
       "3                   1.230039            1.577112     -0.724251   \n",
       "4                   1.230039            1.577112     -0.724251   \n",
       "\n",
       "   Ethnic classification  Most spoken language   \n",
       "0               0.591059              -0.300956  \n",
       "1               0.591059              -0.300956  \n",
       "2               0.591059              -0.300956  \n",
       "3               0.591059              -0.300956  \n",
       "4               0.591059              -0.300956  "
      ]
     },
     "execution_count": 10,
     "metadata": {},
     "output_type": "execute_result"
    }
   ],
   "source": [
    "scaler = StandardScaler()\n",
    "df_customer = pd.DataFrame(scaler.fit_transform(df_customer), columns=df_customer.columns)\n",
    "df_customer.head()"
   ]
  },
  {
   "cell_type": "markdown",
   "metadata": {},
   "source": [
    "#### K-Means with dimensionality reduction\n",
    "- PCA는 sklearn의 패키지를 사용해도 됨.\n",
    "- 여기서는 covraiance matrix의 projection을 이용함"
   ]
  },
  {
   "cell_type": "code",
   "execution_count": 16,
   "metadata": {},
   "outputs": [
    {
     "data": {
      "text/plain": [
       "(14, 14)"
      ]
     },
     "execution_count": 16,
     "metadata": {},
     "output_type": "execute_result"
    }
   ],
   "source": [
    "cov_mat = np.dot(df_customer.T, df_customer)\n",
    "cov_mat.shape"
   ]
  },
  {
   "cell_type": "code",
   "execution_count": 24,
   "metadata": {},
   "outputs": [
    {
     "data": {
      "text/plain": [
       "[<matplotlib.lines.Line2D at 0x7f11a4765f90>]"
      ]
     },
     "execution_count": 24,
     "metadata": {},
     "output_type": "execute_result"
    },
    {
     "data": {
      "image/png": "[encoded data removed]",
      "text/plain": [
       "<Figure size 432x288 with 1 Axes>"
      ]
     },
     "metadata": {
      "needs_background": "light"
     },
     "output_type": "display_data"
    }
   ],
   "source": [
    "eigval, eigvec = np.linalg.eig(cov_mat)\n",
    "plt.plot(eigval)"
   ]
  },
  {
   "cell_type": "code",
   "execution_count": 40,
   "metadata": {},
   "outputs": [],
   "source": [
    "#projection to 2 dimensional eigen space\n",
    "projected = pd.DataFrame(np.dot(df_customer, eigvec[:2].T), columns=['pc1','pc2'])"
   ]
  },
  {
   "cell_type": "code",
   "execution_count": 48,
   "metadata": {
    "scrolled": true
   },
   "outputs": [],
   "source": [
    "model = KMeans(n_clusters=7,algorithm='auto')\n",
    "model.fit(projected)\n",
    "predict = pd.DataFrame(model.predict(projected))\n",
    "predict.columns=['predict']\n"
   ]
  },
  {
   "cell_type": "code",
   "execution_count": 49,
   "metadata": {
    "scrolled": true
   },
   "outputs": [
    {
     "data": {
      "image/png": "[encoded data removed]",
      "text/plain": [
       "<Figure size 432x288 with 1 Axes>"
      ]
     },
     "metadata": {
      "needs_background": "light"
     },
     "output_type": "display_data"
    }
   ],
   "source": [
    "centers = pd.DataFrame(model.cluster_centers_,columns=['pc1','pc2'])\n",
    "center_x = centers['pc1']\n",
    "center_y = centers['pc2']\n",
    "\n",
    "# scatter plot\n",
    "plt.scatter(projected['pc1'],projected['pc2'],c=predict['predict'],alpha=0.5)\n",
    "plt.scatter(center_x, center_y, s=50, marker='D', c='r')\n",
    "plt.show()\n"
   ]
  },
  {
   "cell_type": "markdown",
   "metadata": {
    "scrolled": true
   },
   "source": [
    "#### k값 정하기: elbow method\n",
    "- 위 scatter plot은 k=7 일 때.\n",
    "- 적절한 k 값을 찾아야 함."
   ]
  },
  {
   "cell_type": "code",
   "execution_count": 53,
   "metadata": {
    "scrolled": true
   },
   "outputs": [],
   "source": [
    "inertia = []\n",
    "K = range(2,20)\n",
    "for k in K:\n",
    "    kmeanModel = KMeans(n_clusters=k)\n",
    "    kmeanModel.fit(projected)\n",
    "    inertia.append(kmeanModel.inertia_)"
   ]
  },
  {
   "cell_type": "code",
   "execution_count": 54,
   "metadata": {
    "scrolled": true
   },
   "outputs": [
    {
     "data": {
      "image/png": "[encoded data removed]",
      "text/plain": [
       "<Figure size 1152x576 with 1 Axes>"
      ]
     },
     "metadata": {
      "needs_background": "light"
     },
     "output_type": "display_data"
    }
   ],
   "source": [
    "plt.figure(figsize=(16,8))\n",
    "plt.plot(K, inertia, 'bx-')\n",
    "plt.xlabel('k')\n",
    "plt.ylabel('inertia')\n",
    "plt.title('The Elbow Method showing the optimal k')\n",
    "plt.show()"
   ]
  },
  {
   "cell_type": "markdown",
   "metadata": {
    "scrolled": true
   },
   "source": [
    "- k=5 일 때가 elbow로 보임."
   ]
  },
  {
   "cell_type": "code",
   "execution_count": null,
   "metadata": {
    "scrolled": true
   },
   "outputs": [],
   "source": []
  },
  {
   "cell_type": "code",
   "execution_count": null,
   "metadata": {
    "scrolled": true
   },
   "outputs": [],
   "source": []
  },
  {
   "cell_type": "code",
   "execution_count": null,
   "metadata": {
    "scrolled": true
   },
   "outputs": [],
   "source": []
  }
 ],
 "metadata": {
  "kernelspec": {
   "display_name": "Python 3",
   "language": "python",
   "name": "python3"
  },
  "language_info": {
   "codemirror_mode": {
    "name": "ipython",
    "version": 3
   },
   "file_extension": ".py",
   "mimetype": "text/x-python",
   "name": "python",
   "nbconvert_exporter": "python",
   "pygments_lexer": "ipython3",
   "version": "3.7.4"
  }
 },
 "nbformat": 4,
 "nbformat_minor": 2
}
